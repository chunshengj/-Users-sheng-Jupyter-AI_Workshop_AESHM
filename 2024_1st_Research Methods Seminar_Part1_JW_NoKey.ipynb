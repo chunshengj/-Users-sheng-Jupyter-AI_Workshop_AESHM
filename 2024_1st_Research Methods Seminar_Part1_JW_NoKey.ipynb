{
 "cells": [
  {
   "cell_type": "markdown",
   "id": "4a601043-593b-42ba-a280-1c1fe2488b57",
   "metadata": {
    "id": "4a601043-593b-42ba-a280-1c1fe2488b57"
   },
   "source": [
    "# Step 1. Package Installation"
   ]
  },
  {
   "cell_type": "raw",
   "id": "55f8613c-2445-4674-b832-ce968480be7d",
   "metadata": {
    "id": "55f8613c-2445-4674-b832-ce968480be7d"
   },
   "source": [
    "%pip install openai\n",
    "%pip install pandas\n",
    "%pip install python-dotenv\n",
    "\n",
    "!pip install openai\n",
    "!pip install pandas\n",
    "!pip install python-dotenv"
   ]
  },
  {
   "cell_type": "markdown",
   "id": "1b08a1f4-e9cc-4a3e-9582-7e5b3dbbf7dd",
   "metadata": {},
   "source": [
    "# Step 2 Import Packages"
   ]
  },
  {
   "cell_type": "code",
   "execution_count": 1,
   "id": "98fa8d3d-9f63-407a-9580-a0980ec08b85",
   "metadata": {
    "id": "98fa8d3d-9f63-407a-9580-a0980ec08b85"
   },
   "outputs": [],
   "source": [
    "import pandas as pd\n",
    "import openai==1.51.0\n",
    "import os\n",
    "import time\n",
    "from dotenv import load_dotenv, find_dotenv"
   ]
  },
  {
   "cell_type": "code",
   "execution_count": 11,
   "id": "f1b6f8ba-7342-4c5c-b5d9-5fba8efc7289",
   "metadata": {},
   "outputs": [
    {
     "name": "stdout",
     "output_type": "stream",
     "text": [
      "1.51.0\n"
     ]
    }
   ],
   "source": [
    "print(openai.__version__)"
   ]
  },
  {
   "cell_type": "markdown",
   "id": "f33b5b7c-42a7-4734-94c3-a61ebe42ea09",
   "metadata": {
    "id": "f33b5b7c-42a7-4734-94c3-a61ebe42ea09"
   },
   "source": [
    "# Step 3. Retrieve a API key"
   ]
  },
  {
   "cell_type": "code",
   "execution_count": 3,
   "id": "d4cae1f4-31d8-4efc-a1dc-54532f3cd3d0",
   "metadata": {},
   "outputs": [],
   "source": [
    "# Retrieve a GPT API key\n",
    "openai.api_key = 'put_your_API_KEY_here'"
   ]
  },
  {
   "cell_type": "markdown",
   "id": "747c57b7-4d2f-4630-9e71-b929577f3b5a",
   "metadata": {},
   "source": [
    "# Step 4. Create a GPT function"
   ]
  },
  {
   "cell_type": "code",
   "execution_count": 5,
   "id": "db56e55c-79dc-4508-a7a9-1e7fe3e93cd5",
   "metadata": {
    "id": "db56e55c-79dc-4508-a7a9-1e7fe3e93cd5"
   },
   "outputs": [],
   "source": [
    "# GPT 4o mini\n",
    "def get_completion(prompt, model=\"gpt-4o-mini\"):\n",
    "    messages = [{\"role\": \"user\", \"content\": prompt}]\n",
    "    response = openai.chat.completions.create(\n",
    "        model=model,\n",
    "        messages=messages,\n",
    "        temperature=0, # this is the degree of randomness of the model's output\n",
    "    )\n",
    "    return response.choices[0].message.content"
   ]
  },
  {
   "cell_type": "markdown",
   "id": "e84d1a67-d59b-446d-9cdb-61bc666ba1f8",
   "metadata": {
    "id": "e84d1a67-d59b-446d-9cdb-61bc666ba1f8"
   },
   "source": [
    "# Step 5. Text Summarization"
   ]
  },
  {
   "cell_type": "code",
   "execution_count": 7,
   "id": "a82e4f8c-7617-415b-80d3-20319ccebc41",
   "metadata": {
    "id": "a82e4f8c-7617-415b-80d3-20319ccebc41"
   },
   "outputs": [],
   "source": [
    "# product review\n",
    "prod_review = \"\"\"\n",
    "Got this panda plush toy for my daughter's birthday,\\\n",
    "who loves it and takes it everywhere. It's soft and\\\n",
    "super cute, and its face has a friendly look. It's\\\n",
    "a bit small for what I paid though. I think there\\\n",
    "might be other options that are bigger for the\\\n",
    "same price. It arrived a day earlier than expected,\\\n",
    "so I got to play with it myself before I gave it\\\n",
    "to her.\n",
    "\"\"\""
   ]
  },
  {
   "cell_type": "code",
   "execution_count": 9,
   "id": "c84d2a4e-fd9c-45d1-814a-7e0ebdb999ee",
   "metadata": {
    "id": "1cb7c353-30d9-4679-a031-2605e5ecf12f"
   },
   "outputs": [
    {
     "name": "stdout",
     "output_type": "stream",
     "text": [
      "The product arrived a day earlier than expected, enhancing the gifting experience.\n"
     ]
    }
   ],
   "source": [
    "# Create a prompt for summarization\n",
    "prompt = f\"\"\"\n",
    "Your task is to generate a short summary of a product \\\n",
    "review from an ecommerce site to give feedback to the \\\n",
    "Shipping deparmtment.\n",
    "\n",
    "Summarize the review below, delimited by triple\n",
    "backticks, in at most 30 words, and focusing on any aspects \\\n",
    "that mention shipping and delivery of the product.\n",
    "\n",
    "Review: ```{prod_review}```\n",
    "\"\"\"\n",
    "\n",
    "# Print the outputs\n",
    "response = get_completion(prompt)\n",
    "print(response)"
   ]
  }
 ],
 "metadata": {
  "colab": {
   "provenance": []
  },
  "kernelspec": {
   "display_name": "Python 3 (ipykernel)",
   "language": "python",
   "name": "python3"
  },
  "language_info": {
   "codemirror_mode": {
    "name": "ipython",
    "version": 3
   },
   "file_extension": ".py",
   "mimetype": "text/x-python",
   "name": "python",
   "nbconvert_exporter": "python",
   "pygments_lexer": "ipython3",
   "version": "3.12.4"
  }
 },
 "nbformat": 4,
 "nbformat_minor": 5
}
